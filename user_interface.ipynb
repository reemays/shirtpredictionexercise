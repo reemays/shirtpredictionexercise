{
 "cells": [
  {
   "cell_type": "code",
   "execution_count": null,
   "id": "adf97b05-7f43-4a0d-bbc8-3b1027f73f93",
   "metadata": {
    "tags": []
   },
   "outputs": [],
   "source": [
    "import joblib\n",
    "import pandas as pd\n",
    "import streamlit as st\n",
    "\n",
    "st.title(\"Shirt Size Prediction\")\n",
    "\n",
    "age = st.number_input(\"Enter your age:\", 1, 117)\n",
    "weight = st.number_input(\"Enter your weight:\", 1, 136)\n",
    "height = st.number_input(\"Enter your height:\", 1, 193)\n",
    "\n",
    "user_input = pd.DataFrame([[weight, age, height]], columns=[\"weight\", \"age\", \"height\"])\n",
    "\n",
    "model = joblib.load('model.pkl')\n",
    "\n",
    "prediction = model.predict(user_input)\n",
    "\n",
    "if st.button(\"Predict\"):\n",
    "    st.write(\"Your size is\", prediction[0])\n",
    "\n",
    "pd.show_versions()"
   ]
  },
  {
   "cell_type": "code",
   "execution_count": null,
   "id": "82d68ea6-637b-46ff-be85-5147c83e2530",
   "metadata": {},
   "outputs": [],
   "source": []
  }
 ],
 "metadata": {
  "kernelspec": {
   "display_name": "Python 3 (ipykernel)",
   "language": "python",
   "name": "python3"
  },
  "language_info": {
   "codemirror_mode": {
    "name": "ipython",
    "version": 3
   },
   "file_extension": ".py",
   "mimetype": "text/x-python",
   "name": "python",
   "nbconvert_exporter": "python",
   "pygments_lexer": "ipython3",
   "version": "3.8.0"
  }
 },
 "nbformat": 4,
 "nbformat_minor": 5
}
